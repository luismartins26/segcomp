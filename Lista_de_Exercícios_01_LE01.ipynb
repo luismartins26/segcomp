{
  "nbformat": 4,
  "nbformat_minor": 0,
  "metadata": {
    "colab": {
      "provenance": [],
      "toc_visible": true,
      "authorship_tag": "ABX9TyP+7hT9v1RIYdSrq2VhADBi",
      "include_colab_link": true
    },
    "kernelspec": {
      "name": "python3",
      "display_name": "Python 3"
    },
    "language_info": {
      "name": "python"
    }
  },
  "cells": [
    {
      "cell_type": "markdown",
      "metadata": {
        "id": "view-in-github",
        "colab_type": "text"
      },
      "source": [
        "<a href=\"https://colab.research.google.com/github/luismartins26/segcomp/blob/main/Lista_de_Exerc%C3%ADcios_01_LE01.ipynb\" target=\"_parent\"><img src=\"https://colab.research.google.com/assets/colab-badge.svg\" alt=\"Open In Colab\"/></a>"
      ]
    },
    {
      "cell_type": "markdown",
      "source": [
        "# Lista de Exercícios 01"
      ],
      "metadata": {
        "id": "jTDj_2S5HsjV"
      }
    },
    {
      "cell_type": "markdown",
      "source": [
        "CIC0201 - Segurança Computacional – 2025/1\n",
        "\n",
        "Disciplina: Segurança Computacional\n",
        "\n",
        "Professora: Lorena Borges\n",
        "\n",
        "Estudante: Luís Martins (242037814)"
      ],
      "metadata": {
        "id": "PdYwmpUrH11q"
      }
    },
    {
      "cell_type": "markdown",
      "source": [
        "# Introdução"
      ],
      "metadata": {
        "id": "q3YXE01OIGNQ"
      }
    },
    {
      "cell_type": "code",
      "source": [
        "from abc import ABC, abstractmethod"
      ],
      "metadata": {
        "id": "2LrYWcwjIlFw"
      },
      "execution_count": 16,
      "outputs": []
    },
    {
      "cell_type": "code",
      "source": [
        "class Criptografo(ABC):\n",
        "    @abstractmethod\n",
        "    def encriptar(self, texto: str) -> str:\n",
        "        pass\n",
        "\n",
        "    @abstractmethod\n",
        "    def desencriptar(self, texto: str) -> str:\n",
        "        pass"
      ],
      "metadata": {
        "id": "7fJrm1aBI0X3"
      },
      "execution_count": 15,
      "outputs": []
    },
    {
      "cell_type": "markdown",
      "source": [
        "# Shift Cipher"
      ],
      "metadata": {
        "id": "O8cBYP2sIQB2"
      }
    },
    {
      "cell_type": "code",
      "execution_count": null,
      "metadata": {
        "id": "JCmRUOHAG2yu"
      },
      "outputs": [],
      "source": []
    },
    {
      "cell_type": "markdown",
      "source": [
        "# Cifra por Transposição"
      ],
      "metadata": {
        "id": "cdBWGkqGIW4Y"
      }
    },
    {
      "cell_type": "code",
      "source": [],
      "metadata": {
        "id": "0coXuCepIhAO"
      },
      "execution_count": null,
      "outputs": []
    }
  ]
}